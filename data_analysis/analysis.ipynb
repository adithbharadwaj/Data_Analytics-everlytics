{
 "cells": [
  {
   "cell_type": "code",
   "execution_count": 3,
   "metadata": {},
   "outputs": [],
   "source": [
    "import pandas as pd\n",
    "import matplotlib.pyplot as plt\n",
    "import numpy as np\n"
   ]
  },
  {
   "cell_type": "code",
   "execution_count": 4,
   "metadata": {},
   "outputs": [],
   "source": [
    "# reading the data into a pandas data frame.\n",
    "data = pd.read_csv('Speed_dataset.csv')\n",
    "df = pd.DataFrame(data)"
   ]
  },
  {
   "cell_type": "code",
   "execution_count": 5,
   "metadata": {},
   "outputs": [
    {
     "name": "stdout",
     "output_type": "stream",
     "text": [
      "         latitude  longitude         timestamp  speed_mph  speedlimit_mph  \\\n",
      "0       34.640141 -77.938721     6/1/2015 0:04         64              70   \n",
      "1       34.643730 -77.939400     6/1/2015 0:04         64              70   \n",
      "2       34.551254 -78.784630     6/1/2015 0:04          1              55   \n",
      "3       35.613663 -78.470596     6/1/2015 0:06         62              70   \n",
      "4       35.614525 -78.474670     6/1/2015 0:06         61              70   \n",
      "5       34.860115 -77.999969     6/1/2015 0:19         64              70   \n",
      "6       34.328571 -78.926056     6/1/2015 0:24         23              55   \n",
      "7       35.756538 -78.699715     6/1/2015 0:30          3              55   \n",
      "8       34.402813 -78.916901     6/1/2015 0:33         65              70   \n",
      "9       35.039543 -78.149475     6/1/2015 0:34         64              70   \n",
      "10      35.042751 -78.150772     6/1/2015 0:34         64              70   \n",
      "11      34.443115 -78.959885     6/1/2015 0:36         64              70   \n",
      "12      34.590424 -79.068939     6/1/2015 0:48         65              65   \n",
      "13      35.191341 -78.283020     6/1/2015 0:49         64              70   \n",
      "14      34.552170 -78.784126     6/1/2015 0:55         27              55   \n",
      "15      34.741947 -78.997086     6/1/2015 1:03         65              65   \n",
      "16      34.751602 -78.996979     6/1/2015 1:03         65              65   \n",
      "17      35.362625 -78.365662     6/1/2015 1:04         65              55   \n",
      "18      35.367558 -78.366119     6/1/2015 1:04         50              55   \n",
      "19      34.657280 -78.727158     6/1/2015 1:05         32              35   \n",
      "20      34.658459 -78.726082     6/1/2015 1:05          7              35   \n",
      "21      34.659496 -78.726418     6/1/2015 1:05         33              35   \n",
      "22      35.757271 -78.699623     6/1/2015 1:13          6              45   \n",
      "23      34.947567 -78.905853     6/1/2015 1:18         65              70   \n",
      "24      34.813793 -78.836586     6/1/2015 1:20         62              55   \n",
      "25      35.792152 -78.695999     6/1/2015 1:21         52              55   \n",
      "26      35.131229 -78.745583     6/1/2015 1:33         65              65   \n",
      "27      35.152477 -78.723122     6/1/2015 1:34         64              65   \n",
      "28      35.009209 -78.819359     6/1/2015 1:35         65              70   \n",
      "29      35.012817 -78.817421     6/1/2015 1:35         65              70   \n",
      "...           ...        ...               ...        ...             ...   \n",
      "343598  35.892609 -78.597168  11/30/2015 23:31         53              70   \n",
      "343599  35.700012 -78.580429  11/30/2015 23:32         57              65   \n",
      "343600  35.696938 -78.577148  11/30/2015 23:32         52              65   \n",
      "343601  35.836208 -78.666985  11/30/2015 23:34         60              60   \n",
      "343602  34.514111 -79.290939  11/30/2015 23:36         67              70   \n",
      "343603  35.176018 -78.257797  11/30/2015 23:36         65              70   \n",
      "343604  35.651531 -78.564980  11/30/2015 23:36         64              70   \n",
      "343605  35.519634 -78.289124  11/30/2015 23:36         32              65   \n",
      "343606  35.647266 -78.565331  11/30/2015 23:36         56              70   \n",
      "343607  34.517570 -79.285515  11/30/2015 23:36         67              70   \n",
      "343608  35.166851 -78.248253  11/30/2015 23:36         64              70   \n",
      "343609  35.994362 -79.747421  11/30/2015 23:37         54              60   \n",
      "343610  35.991482 -79.744408  11/30/2015 23:37         56              60   \n",
      "343611  35.993073 -79.827271  11/30/2015 23:38         64              55   \n",
      "343612  35.603630 -78.425621  11/30/2015 23:39         65              70   \n",
      "343613  34.813755 -78.987976  11/30/2015 23:43          6              35   \n",
      "343614  35.886795 -78.659653  11/30/2015 23:43          1              55   \n",
      "343615  35.744434 -78.592674  11/30/2015 23:45         64              65   \n",
      "343616  36.284878 -76.233643  11/30/2015 23:45          5              55   \n",
      "343617  35.605995 -78.448830  11/30/2015 23:47         64              70   \n",
      "343618  34.389706 -77.893105  11/30/2015 23:47          3              55   \n",
      "343619  34.764725 -78.996834  11/30/2015 23:49         63              65   \n",
      "343620  34.978119 -78.127838  11/30/2015 23:51         65              70   \n",
      "343621  35.658798 -78.092133  11/30/2015 23:51         64              70   \n",
      "343622  35.568218 -78.341431  11/30/2015 23:51         52              55   \n",
      "343623  36.299755 -76.251152  11/30/2015 23:51         46              50   \n",
      "343624  34.622124 -79.050201  11/30/2015 23:51         11              35   \n",
      "343625  35.548748 -78.304947  11/30/2015 23:51          4              45   \n",
      "343626  35.822601 -79.572960  11/30/2015 23:52         65              65   \n",
      "343627  36.063713 -79.930313  11/30/2015 23:53         16              55   \n",
      "\n",
      "        functionalClass controlledAccess  isHighway state  vehicle_id  \\\n",
      "0                     2                Y          1    NC     1208979   \n",
      "1                     2                Y          1    NC     1208979   \n",
      "2                     4                N          1    NC     1262441   \n",
      "3                     2                Y          1    NC     1280223   \n",
      "4                     2                Y          1    NC     1280223   \n",
      "5                     2                Y          1    NC     1208979   \n",
      "6                     4                N          1    NC      550280   \n",
      "7                     5                N          1    NC     1280223   \n",
      "8                     2                N          1    NC      550280   \n",
      "9                     2                Y          1    NC     1208979   \n",
      "10                    2                Y          1    NC     1208979   \n",
      "11                    2                N          1    NC      550280   \n",
      "12                    2                Y          1    NC      550280   \n",
      "13                    2                Y          1    NC     1208979   \n",
      "14                    4                N          1    NC     1262441   \n",
      "15                    1                Y          1    NC      550280   \n",
      "16                    1                Y          1    NC      550280   \n",
      "17                    3                N          1    NC     1208979   \n",
      "18                    3                N          1    NC     1208979   \n",
      "19                    4                N          0    NC     1262441   \n",
      "20                    4                N          0    NC     1262441   \n",
      "21                    3                N          0    NC     1262441   \n",
      "22                    4                N          0    NC     1280223   \n",
      "23                    1                Y          1    NC      550280   \n",
      "24                    3                N          1    NC     1262441   \n",
      "25                    2                Y          1    NC     1280223   \n",
      "26                    1                Y          1    NC      550280   \n",
      "27                    1                Y          1    NC      550280   \n",
      "28                    1                Y          1    NC     1262441   \n",
      "29                    1                Y          1    NC     1262441   \n",
      "...                 ...              ...        ...   ...         ...   \n",
      "343598                2                Y          1    NC      567435   \n",
      "343599                1                Y          1    NC     1173291   \n",
      "343600                1                Y          1    NC     1173291   \n",
      "343601                2                Y          1    NC     1190543   \n",
      "343602                1                Y          1    NC     1351613   \n",
      "343603                2                Y          1    NC     1280223   \n",
      "343604                1                Y          1    NC      550272   \n",
      "343605                1                Y          1    NC        1462   \n",
      "343606                1                Y          1    NC      550272   \n",
      "343607                1                Y          1    NC     1351613   \n",
      "343608                2                Y          1    NC     1280223   \n",
      "343609                2                N          1    NC      617989   \n",
      "343610                2                N          1    NC      617989   \n",
      "343611                2                Y          1    NC      565771   \n",
      "343612                2                Y          1    NC      550768   \n",
      "343613                4                N          0    NC     1208979   \n",
      "343614                5                N          1    NC      567435   \n",
      "343615                1                Y          1    NC     1190543   \n",
      "343616                5                N          1    NC      607681   \n",
      "343617                2                Y          1    NC     1173291   \n",
      "343618                4                N          1    NC     1191353   \n",
      "343619                1                Y          1    NC     1208979   \n",
      "343620                2                Y          1    NC     1280223   \n",
      "343621                1                Y          1    NC        1462   \n",
      "343622                2                N          1    NC      550272   \n",
      "343623                3                N          0    NC      607681   \n",
      "343624                4                N          0    NC     1351613   \n",
      "343625                4                N          0    NC      550768   \n",
      "343626                2                Y          1    NC      617989   \n",
      "343627                5                N          1    NC      565771   \n",
      "\n",
      "        driver_id  \n",
      "0            5693  \n",
      "1            5693  \n",
      "2          916461  \n",
      "3         1145487  \n",
      "4         1145487  \n",
      "5            5693  \n",
      "6          500201  \n",
      "7         1145487  \n",
      "8          500201  \n",
      "9            5693  \n",
      "10           5693  \n",
      "11         500201  \n",
      "12         500201  \n",
      "13           5693  \n",
      "14         916461  \n",
      "15         500201  \n",
      "16         500201  \n",
      "17           5693  \n",
      "18           5693  \n",
      "19         916461  \n",
      "20         916461  \n",
      "21         916461  \n",
      "22        1145487  \n",
      "23         500201  \n",
      "24         916461  \n",
      "25        1145487  \n",
      "26         500201  \n",
      "27         500201  \n",
      "28         916461  \n",
      "29         916461  \n",
      "...           ...  \n",
      "343598    1256913  \n",
      "343599    1265441  \n",
      "343600    1265441  \n",
      "343601    1235549  \n",
      "343602     322085  \n",
      "343603     916461  \n",
      "343604    1305549  \n",
      "343605    1222453  \n",
      "343606    1305549  \n",
      "343607     322085  \n",
      "343608     916461  \n",
      "343609    1272718  \n",
      "343610    1272718  \n",
      "343611    1159793  \n",
      "343612    1288064  \n",
      "343613       5693  \n",
      "343614    1256913  \n",
      "343615    1235549  \n",
      "343616     991329  \n",
      "343617    1265441  \n",
      "343618    1163791  \n",
      "343619       5693  \n",
      "343620     916461  \n",
      "343621    1222453  \n",
      "343622    1305549  \n",
      "343623     991329  \n",
      "343624     322085  \n",
      "343625    1288064  \n",
      "343626    1272718  \n",
      "343627    1159793  \n",
      "\n",
      "[343628 rows x 11 columns]\n"
     ]
    }
   ],
   "source": [
    "#print(df.columns)\n",
    "print(df)"
   ]
  },
  {
   "cell_type": "code",
   "execution_count": 6,
   "metadata": {},
   "outputs": [
    {
     "name": "stdout",
     "output_type": "stream",
     "text": [
      "38.1761294190229\n",
      "24.945942878865157\n",
      "622.3000661156033\n"
     ]
    }
   ],
   "source": [
    "speed = df['speed_mph']\n",
    "\n",
    "# calculating basic measures of central tendency\n",
    "\n",
    "# mean\n",
    "mean = np.mean(speed)\n",
    "print(mean)\n",
    "\n",
    "# std_deviation\n",
    "std_deviation = np.std(speed)\n",
    "print(std_deviation)\n",
    "\n",
    "# variance\n",
    "variance = std_deviation**2\n",
    "print(variance)"
   ]
  },
  {
   "cell_type": "code",
   "execution_count": 7,
   "metadata": {},
   "outputs": [
    {
     "data": {
      "image/png": "[encoded data removed]",
      "text/plain": [
       "<Figure size 432x288 with 1 Axes>"
      ]
     },
     "metadata": {},
     "output_type": "display_data"
    }
   ],
   "source": [
    "# scatter plot of the speeds of various drivers\n",
    "# x-axis = speed. y-axis = driver id (unique identifier)\n",
    "\n",
    "% matplotlib inline\n",
    "\n",
    "driver_id = df['vehicle_id']\n",
    "\n",
    "plt.scatter(speed, driver_id//1000)\n",
    "plt.title('speed plot')\n",
    "plt.xlabel('speed')\n",
    "plt.ylabel('vehicle id')\n",
    "plt.show()"
   ]
  },
  {
   "cell_type": "code",
   "execution_count": 8,
   "metadata": {},
   "outputs": [
    {
     "name": "stdout",
     "output_type": "stream",
     "text": [
      "{'NC', 'GA', 'VA', 'SC'}\n"
     ]
    }
   ],
   "source": [
    "state = df['state']\n",
    "\n",
    "# different names of states\n",
    "print(set(state))"
   ]
  },
  {
   "cell_type": "code",
   "execution_count": 9,
   "metadata": {},
   "outputs": [
    {
     "data": {
      "image/png": "[encoded data removed]",
      "text/plain": [
       "<Figure size 432x288 with 1 Axes>"
      ]
     },
     "metadata": {},
     "output_type": "display_data"
    },
    {
     "name": "stdout",
     "output_type": "stream",
     "text": [
      "79\n"
     ]
    }
   ],
   "source": [
    "# grouping the data into states.\n",
    "states = {'NC': np.where(df == 'NC', df, df), 'VA': np.where(df == 'VA', df, df), 'SC': np.where(df == 'SC', df, df), 'GA': np.where(df == 'GA', df, df)}\n",
    "\n",
    "#print(states['NC'][:, 3])\n",
    "\n",
    "plt.bar(['NC', 'VA', 'SC', 'GA'], [np.max(states['NC'][:, 3]), np.max(states['VA'][:, 3]), np.max(states['SC'][:, 3]), np.max(states['GA'][:, 3])])\n",
    "plt.xlabel('states')\n",
    "plt.ylabel('max speed')\n",
    "plt.show()\n",
    "\n",
    "# it can be observed that the max speed is the same in every state. i.e, 79\n",
    "print(np.max(states['NC'][:, 3]))"
   ]
  },
  {
   "cell_type": "code",
   "execution_count": 10,
   "metadata": {},
   "outputs": [
    {
     "name": "stdout",
     "output_type": "stream",
     "text": [
      "54.0\n",
      "10.0\n",
      "64.0\n"
     ]
    }
   ],
   "source": [
    "from scipy.stats import iqr\n",
    "\n",
    "# The IQR approximates the amount of spread in the middle 50% of the data\n",
    "print(iqr(speed))\n",
    "\n",
    "print(np.percentile(speed, 25))\n",
    "print(np.percentile(speed, 75))\n"
   ]
  },
  {
   "cell_type": "code",
   "execution_count": 11,
   "metadata": {},
   "outputs": [
    {
     "name": "stdout",
     "output_type": "stream",
     "text": [
      "38.1761294190229\n"
     ]
    },
    {
     "data": {
      "image/png": "[encoded data removed]",
      "text/plain": [
       "<Figure size 432x288 with 1 Axes>"
      ]
     },
     "metadata": {},
     "output_type": "display_data"
    }
   ],
   "source": [
    "speed_list = list(speed)\n",
    "speed_list.sort()\n",
    "print(mean)\n",
    "below = []\n",
    "ind = 0\n",
    "for i in range(len(speed_list)):\n",
    "    if(speed_list[i] > mean):\n",
    "        ind = i\n",
    "        break\n",
    "    else:\n",
    "        below.append(speed_list[i])\n",
    "        \n",
    "above = speed_list[ind:]\n",
    "\n",
    "'''\n",
    "plotting the speed values that are greater than avg in red and below avg in green.\n",
    "\n",
    "'''\n",
    "plt.scatter(above, [df['vehicle_id'][i] for i in range(len(above))], color = 'r')\n",
    "plt.scatter(below, [df['vehicle_id'][i] for i in range(len(above), len(df))], color = 'b')\n",
    "plt.xlabel('speed')\n",
    "plt.ylabel('id')\n",
    "plt.show()\n"
   ]
  },
  {
   "cell_type": "code",
   "execution_count": 12,
   "metadata": {},
   "outputs": [
    {
     "data": {
      "image/png": "[encoded data removed]",
      "text/plain": [
       "<Figure size 432x288 with 1 Axes>"
      ]
     },
     "metadata": {},
     "output_type": "display_data"
    }
   ],
   "source": [
    "# plot of various functional classes with the speed\n",
    "\n",
    "plt.scatter(df['functionalClass'], speed)\n",
    "plt.xlabel('class')\n",
    "plt.ylabel('speed')\n",
    "plt.show()"
   ]
  },
  {
   "cell_type": "code",
   "execution_count": 13,
   "metadata": {},
   "outputs": [
    {
     "data": {
      "image/png": "[encoded data removed]",
      "text/plain": [
       "<Figure size 432x288 with 1 Axes>"
      ]
     },
     "metadata": {},
     "output_type": "display_data"
    }
   ],
   "source": [
    "# boxplot shows:\n",
    "# topmost __ = maximum\n",
    "# bottom __ = minimum\n",
    "# red line = median\n",
    "# lower end of the box = first quartile\n",
    "# upper end of the box = third quartile\n",
    "# area of the box = Interquartile Range (IQR)\n",
    "\n",
    "plt.boxplot(speed)\n",
    "plt.title('Boxplot')\n",
    "plt.show()"
   ]
  },
  {
   "cell_type": "code",
   "execution_count": 14,
   "metadata": {},
   "outputs": [
    {
     "name": "stdout",
     "output_type": "stream",
     "text": [
      "{'NC', 'GA', 'VA', 'SC'}\n"
     ]
    },
    {
     "data": {
      "image/png": "[encoded data removed]",
      "text/plain": [
       "<Figure size 432x288 with 1 Axes>"
      ]
     },
     "metadata": {},
     "output_type": "display_data"
    }
   ],
   "source": [
    "# pie chart with state distributions\n",
    "print(set(state))\n",
    "plt.pie([len(states['NC'][:, 3]), len(states['VA'][:, 3]), len(states['SC'][:, 3]), len(states['GA'][:, 3]) ], labels = list(set(state)))\n",
    "plt.show()\n",
    "\n",
    "# as you can see, each state occupies an equal share in the pie chart."
   ]
  },
  {
   "cell_type": "code",
   "execution_count": 53,
   "metadata": {},
   "outputs": [
    {
     "data": {
      "image/png": "[encoded data removed]",
      "text/plain": [
       "<Figure size 432x288 with 1 Axes>"
      ]
     },
     "metadata": {},
     "output_type": "display_data"
    }
   ],
   "source": [
    "#print(speed_list)\n",
    "speed_limit = df['speedlimit_mph']\n",
    "speed_list = list(speed)\n",
    "violations = []\n",
    "speed_lim_violations = []\n",
    "ishighway = []\n",
    "nothighway = []\n",
    "highway = list(df['isHighway'])\n",
    "statewise_distribution = {}\n",
    "fc = list(df['functionalClass'])\n",
    "functional_class = {}\n",
    "ts = list(df['timestamp'])\n",
    "ts = [ts[i].split(' ')[0] for i in range(len(ts))]\n",
    "\n",
    "# finding the people who have commited speed violations by comparing their speed with the speed limit.\n",
    "for i in range(len(speed_limit)):\n",
    "    if(speed[i] > speed_limit[i]):\n",
    "        violations.append(speed[i])\n",
    "        speed_lim_violations.append(speed_limit[i])\n",
    "        statewise_distribution[state[i]] = statewise_distribution.get(state[i], 0) + 1\n",
    "        if(highway[i] == 1):\n",
    "            ishighway.append(highway[i])\n",
    "        else:\n",
    "            nothighway.append(highway[i])\n",
    "        functional_class[fc[i]] = functional_class.get(fc[i], 0) + 1 \n",
    "\n",
    "plt.bar(list(set(state)), [statewise_distribution['NC'], statewise_distribution['GA'], statewise_distribution['VA'], statewise_distribution['SC']])\n",
    "plt.show()\n"
   ]
  },
  {
   "cell_type": "markdown",
   "metadata": {},
   "source": [
    "<h1 style = \"text-align: center;\"> Observations </h1>\n",
    "\n",
    "<ol>\n",
    "<li> Highest speed violations are from NC </li>\n",
    "    \n",
    "<li> state GA has no speed violations </li>\n",
    "    \n",
    "<li> states SC and VA have very few Violations </li>\n",
    "    \n",
    "<li> therefore, NC is the most violent state </li>"
   ]
  },
  {
   "cell_type": "code",
   "execution_count": 60,
   "metadata": {},
   "outputs": [
    {
     "data": {
      "image/png": "[encoded data removed]",
      "text/plain": [
       "<Figure size 432x288 with 1 Axes>"
      ]
     },
     "metadata": {},
     "output_type": "display_data"
    }
   ],
   "source": [
    "plt.bar(['highway', 'Not Highway'], [len(ishighway), len(nothighway)])\n",
    "plt.title('speed violations')\n",
    "plt.show()"
   ]
  },
  {
   "cell_type": "markdown",
   "metadata": {},
   "source": [
    "<h1 style = \"text-align: center;\"> Observations </h1>\n",
    "\n",
    "<ul>\n",
    "    <li> Most speed violations happen in highways </li>"
   ]
  },
  {
   "cell_type": "code",
   "execution_count": 41,
   "metadata": {},
   "outputs": [
    {
     "data": {
      "image/png": "[encoded data removed]",
      "text/plain": [
       "<Figure size 432x288 with 1 Axes>"
      ]
     },
     "metadata": {},
     "output_type": "display_data"
    }
   ],
   "source": [
    "plt.bar(['0', '1', '2', '3', '4', '5'], [functional_class[0], functional_class[1], functional_class[2], functional_class[3], functional_class[4], functional_class[5]])\n",
    "plt.title('functional class plot')\n",
    "plt.xlabel('functional classes')\n",
    "plt.ylabel('number of violations')\n",
    "plt.show()\n"
   ]
  },
  {
   "cell_type": "markdown",
   "metadata": {},
   "source": [
    "<h1 style = \"text-align: center;\"> Observations </h1>\n",
    "\n",
    "<ul>\n",
    "    <li> Most speed violations happen in functional class 3 </li>\n",
    "    <li> Least speed violations happen in FC 0 </li>\n",
    "    \n",
    "    "
   ]
  },
  {
   "cell_type": "code",
   "execution_count": 45,
   "metadata": {},
   "outputs": [
    {
     "data": {
      "image/png": "[encoded data removed]",
      "text/plain": [
       "<Figure size 432x288 with 1 Axes>"
      ]
     },
     "metadata": {},
     "output_type": "display_data"
    }
   ],
   "source": [
    "l = len(speed_list)\n",
    "vlen = len(violations)\n",
    "\n",
    "plt.bar(['Violations', 'Non violations'], [vlen, l - vlen])\n",
    "plt.title('Speed violations distribution')\n",
    "plt.ylabel('number of drivers')\n",
    "plt.show()"
   ]
  },
  {
   "cell_type": "markdown",
   "metadata": {},
   "source": [
    "<h1 style = \"text-align: center;\"> Observations </h1>\n",
    "\n",
    "<ul>\n",
    "    <li> speed violations are less compared to non violations</li>\n"
   ]
  },
  {
   "cell_type": "code",
   "execution_count": 74,
   "metadata": {},
   "outputs": [
    {
     "data": {
      "application/vnd.plotly.v1+json": {
       "config": {
        "linkText": "Export to plot.ly",
        "plotlyServerURL": "https://plot.ly",
        "showLink": false
       },
       "data": [
        {
         "colorbar": {
          "title": {
           "text": "geoplot of the different states"
          }
         },
         "colorscale": "Portland",
         "locationmode": "USA-states",
         "locations": [
          "NC",
          "GA",
          "VA",
          "SC"
         ],
         "text": [
          "North carolina",
          "Georgia",
          "Virginia",
          "South Carolina"
         ],
         "type": "choropleth",
         "uid": "bce78429-7ca7-4ad4-9088-9aed8b9ea5ee",
         "z": [
          1,
          2,
          3,
          4
         ]
        }
       ],
       "layout": {
        "geo": {
         "scope": "usa"
        }
       }
      },
      "text/html": [
       "<div id=\"54a9ee25-aedb-44ba-9cc9-8856e8fa4214\" style=\"height: 525px; width: 100%;\" class=\"plotly-graph-div\"></div><script type=\"text/javascript\">require([\"plotly\"], function(Plotly) { window.PLOTLYENV=window.PLOTLYENV || {};window.PLOTLYENV.BASE_URL=\"https://plot.ly\";\n",
       "if (document.getElementById(\"54a9ee25-aedb-44ba-9cc9-8856e8fa4214\")) {\n",
       "    Plotly.newPlot(\"54a9ee25-aedb-44ba-9cc9-8856e8fa4214\", [{\"colorbar\": {\"title\": {\"text\": \"geoplot of the different states\"}}, \"colorscale\": \"Portland\", \"locationmode\": \"USA-states\", \"locations\": [\"NC\", \"GA\", \"VA\", \"SC\"], \"text\": [\"North carolina\", \"Georgia\", \"Virginia\", \"South Carolina\"], \"z\": [1.0, 2.0, 3.0, 4.0], \"type\": \"choropleth\", \"uid\": \"bce78429-7ca7-4ad4-9088-9aed8b9ea5ee\"}], {\"geo\": {\"scope\": \"usa\"}}, {\"showLink\": false, \"linkText\": \"Export to plot.ly\", \"plotlyServerURL\": \"https://plot.ly\"}); \n",
       "}\n",
       "});</script><script type=\"text/javascript\">window.addEventListener(\"resize\", function(){if (document.getElementById(\"54a9ee25-aedb-44ba-9cc9-8856e8fa4214\")) {window._Plotly.Plots.resize(document.getElementById(\"54a9ee25-aedb-44ba-9cc9-8856e8fa4214\"));};})</script>"
      ],
      "text/vnd.plotly.v1+html": [
       "<div id=\"54a9ee25-aedb-44ba-9cc9-8856e8fa4214\" style=\"height: 525px; width: 100%;\" class=\"plotly-graph-div\"></div><script type=\"text/javascript\">require([\"plotly\"], function(Plotly) { window.PLOTLYENV=window.PLOTLYENV || {};window.PLOTLYENV.BASE_URL=\"https://plot.ly\";\n",
       "if (document.getElementById(\"54a9ee25-aedb-44ba-9cc9-8856e8fa4214\")) {\n",
       "    Plotly.newPlot(\"54a9ee25-aedb-44ba-9cc9-8856e8fa4214\", [{\"colorbar\": {\"title\": {\"text\": \"geoplot of the different states\"}}, \"colorscale\": \"Portland\", \"locationmode\": \"USA-states\", \"locations\": [\"NC\", \"GA\", \"VA\", \"SC\"], \"text\": [\"North carolina\", \"Georgia\", \"Virginia\", \"South Carolina\"], \"z\": [1.0, 2.0, 3.0, 4.0], \"type\": \"choropleth\", \"uid\": \"bce78429-7ca7-4ad4-9088-9aed8b9ea5ee\"}], {\"geo\": {\"scope\": \"usa\"}}, {\"showLink\": false, \"linkText\": \"Export to plot.ly\", \"plotlyServerURL\": \"https://plot.ly\"}); \n",
       "}\n",
       "});</script><script type=\"text/javascript\">window.addEventListener(\"resize\", function(){if (document.getElementById(\"54a9ee25-aedb-44ba-9cc9-8856e8fa4214\")) {window._Plotly.Plots.resize(document.getElementById(\"54a9ee25-aedb-44ba-9cc9-8856e8fa4214\"));};})</script>"
      ]
     },
     "metadata": {},
     "output_type": "display_data"
    }
   ],
   "source": [
    "import plotly.plotly as py \n",
    "import plotly.graph_objs as go \n",
    "import pandas as pd \n",
    "\n",
    "data = dict(type = 'choropleth', \n",
    "   \n",
    "            locations = ['NC', 'GA', 'VA', 'SC'], \n",
    "            locationmode = 'USA-states', \n",
    "            colorscale = 'Portland', \n",
    "            text = ['North carolina', 'Georgia', 'Virginia', 'South Carolina'], \n",
    "            z = [1.0, 2.0, 3.0, 4.0], \n",
    "            colorbar = {'title': 'geoplot of the different states'}) \n",
    "              \n",
    "layout = dict(geo ={'scope': 'usa'}) \n",
    " \n",
    "choromap = go.Figure(data = [data], layout = layout) \n",
    "  \n",
    "iplot(choromap) "
   ]
  },
  {
   "cell_type": "code",
   "execution_count": null,
   "metadata": {},
   "outputs": [],
   "source": []
  }
 ],
 "metadata": {
  "kernelspec": {
   "display_name": "Python 3",
   "language": "python",
   "name": "python3"
  },
  "language_info": {
   "codemirror_mode": {
    "name": "ipython",
    "version": 3
   },
   "file_extension": ".py",
   "mimetype": "text/x-python",
   "name": "python",
   "nbconvert_exporter": "python",
   "pygments_lexer": "ipython3",
   "version": "3.6.7"
  }
 },
 "nbformat": 4,
 "nbformat_minor": 2
}
