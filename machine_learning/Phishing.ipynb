{
 "cells": [
  {
   "cell_type": "markdown",
   "metadata": {},
   "source": [
    "<h1 style = \"text-align: center;\"> Phishing prediction </h1>\n",
    "\n"
   ]
  },
  {
   "cell_type": "code",
   "execution_count": 147,
   "metadata": {},
   "outputs": [],
   "source": [
    "# importing all the dependencies\n",
    "\n",
    "import numpy as np\n",
    "import pandas as pd\n",
    "import matplotlib.pyplot as plt\n",
    "\n",
    "from sklearn.linear_model import LogisticRegression, LinearRegression\n",
    "from sklearn.model_selection import train_test_split\n",
    "from sklearn.metrics import accuracy_score\n"
   ]
  },
  {
   "cell_type": "code",
   "execution_count": 148,
   "metadata": {},
   "outputs": [],
   "source": [
    "data = pd.read_csv('Phishing_data.csv') # get the data stored as a csv file\n",
    "# create a data frame in pandas.\n",
    "df = pd.DataFrame(data)\n",
    "#print(df)\n",
    "# converting it to an np array to allow splicing the data frame so that we can extract the features and labels. \n",
    "df = np.array(df) "
   ]
  },
  {
   "cell_type": "code",
   "execution_count": 149,
   "metadata": {},
   "outputs": [],
   "source": [
    "# features are the first 30 columns. Extracting the first 30 columns in a variable callled features\n",
    "features = df[:, :len(df[1]) - 1]\n",
    "#print(features[:10])\n",
    "# labels are the last column. i.e, the prediction values.\n",
    "labels = df[:, len(df[1]) - 1:len(df[1])]\n",
    "labels = labels.reshape(len(labels), )\n",
    "#print(labels[:10])\n",
    "\n",
    "#splitting the data into training data and testing data using sklearn\n",
    "x_train, x_test, y_train, y_test = train_test_split(features, labels, train_size = 0.80, test_size = 0.20, random_state = 0) # splitting the data "
   ]
  },
  {
   "cell_type": "code",
   "execution_count": null,
   "metadata": {},
   "outputs": [],
   "source": []
  },
  {
   "cell_type": "code",
   "execution_count": 150,
   "metadata": {},
   "outputs": [
    {
     "name": "stdout",
     "output_type": "stream",
     "text": [
      "[LibLinear]"
     ]
    },
    {
     "data": {
      "text/plain": [
       "LogisticRegression(C=1.0, class_weight=None, dual=False, fit_intercept=True,\n",
       "          intercept_scaling=1, max_iter=100, multi_class='ovr', n_jobs=1,\n",
       "          penalty='l2', random_state=None, solver='liblinear', tol=0.0001,\n",
       "          verbose=True, warm_start=False)"
      ]
     },
     "execution_count": 150,
     "metadata": {},
     "output_type": "execute_result"
    }
   ],
   "source": [
    "# creating a logistic regression classifier.\n",
    "logistic = LogisticRegression(verbose = True)\n",
    "# training the classifier on the train data.\n",
    "logistic.fit(x_train, y_train)"
   ]
  },
  {
   "cell_type": "code",
   "execution_count": 151,
   "metadata": {},
   "outputs": [],
   "source": [
    "# making a prediction with the test data.\n",
    "logistic_pred = logistic.predict(x_test)"
   ]
  },
  {
   "cell_type": "code",
   "execution_count": 156,
   "metadata": {},
   "outputs": [
    {
     "name": "stdout",
     "output_type": "stream",
     "text": [
      "94.10569105691057 %\n"
     ]
    }
   ],
   "source": [
    "# testing the accuracy of the model with sklearn.\n",
    "accuracy = accuracy_score(logistic_pred, y_test)\n",
    "print(accuracy*100, \"%\")"
   ]
  },
  {
   "cell_type": "markdown",
   "metadata": {},
   "source": [
    "<h1> Results for Logistic Regression </h1>\n",
    "<p style=\"padding-bottom: 10px;\">\n",
    "<ol>\n",
    "<li> It can be seen that the logistic regression model gives an accuracy of 94% </li>\n",
    "      <br>\n",
    "<li> I have used 80% of the data for training and 20% of the data for testing the model. </li>\n",
    "       <br>"
   ]
  },
  {
   "cell_type": "code",
   "execution_count": 158,
   "metadata": {},
   "outputs": [
    {
     "data": {
      "text/plain": [
       "LinearRegression(copy_X=True, fit_intercept=True, n_jobs=1, normalize=False)"
      ]
     },
     "execution_count": 158,
     "metadata": {},
     "output_type": "execute_result"
    }
   ],
   "source": [
    "# using linear regression to compare\n",
    "linear = LinearRegression()\n",
    "# training the linear model\n",
    "linear.fit(x_train, y_train)"
   ]
  },
  {
   "cell_type": "code",
   "execution_count": 159,
   "metadata": {},
   "outputs": [],
   "source": [
    "# making predictions\n",
    "linear_pred = linear.predict(x_test)\n",
    "# rounding the values to represent them as integers. (default = float)\n",
    "linear_pred = np.round(linear_pred)\n",
    "# making predictions with the linear model.\n",
    "linear_pred = linear_pred.astype(int)\n",
    "#print(linear_pred)"
   ]
  },
  {
   "cell_type": "code",
   "execution_count": 161,
   "metadata": {},
   "outputs": [
    {
     "name": "stdout",
     "output_type": "stream",
     "text": [
      "92.47967479674797 %\n"
     ]
    }
   ],
   "source": [
    "# calculating the accuracy of the linear model\n",
    "linear_accuracy = accuracy_score(linear_pred, y_test)\n",
    "print(linear_accuracy*100, \"%\")"
   ]
  },
  {
   "cell_type": "markdown",
   "metadata": {},
   "source": [
    "<h1> Results for Linear Regression </h1>\n",
    "<p style=\"padding-bottom: 10px;\">\n",
    "<ol>\n",
    "<li> It can be seen that the linear regression model gives an accuracy of 92% </li>\n",
    "      <br>\n",
    "<li> I have used 80% of the data for training and 20% of the data for testing the model. </li>\n",
    "       <br>\n",
    "<li> The Logistic Regression Model performs better than the Linear Model. </li>\n",
    "       <br>"
   ]
  },
  {
   "cell_type": "code",
   "execution_count": null,
   "metadata": {},
   "outputs": [],
   "source": []
  }
 ],
 "metadata": {
  "kernelspec": {
   "display_name": "Python 3",
   "language": "python",
   "name": "python3"
  },
  "language_info": {
   "codemirror_mode": {
    "name": "ipython",
    "version": 3
   },
   "file_extension": ".py",
   "mimetype": "text/x-python",
   "name": "python",
   "nbconvert_exporter": "python",
   "pygments_lexer": "ipython3",
   "version": "3.6.7"
  }
 },
 "nbformat": 4,
 "nbformat_minor": 2
}
